{
 "cells": [
  {
   "cell_type": "code",
   "execution_count": 1,
   "metadata": {},
   "outputs": [],
   "source": [
    "# Importa bibliotecas necesarias\n",
    "import pandas as pd\n",
    "from sklearn.model_selection import train_test_split\n",
    "from sklearn.linear_model import LinearRegression\n",
    "from sklearn.metrics import mean_squared_error\n",
    "import numpy as np"
   ]
  },
  {
   "cell_type": "code",
   "execution_count": 2,
   "metadata": {},
   "outputs": [],
   "source": [
    "# Función para cargar y preparar los datos con manejo de excepciones\n",
    "def cargar_datos(ruta_archivo):\n",
    "    try:\n",
    "        data = pd.read_csv(ruta_archivo)\n",
    "        print(f\"Carga exitosa del conjunto de datos {ruta_archivo}.\")\n",
    "        return data\n",
    "    except FileNotFoundError:\n",
    "        print(f\"El archivo {ruta_archivo} no se encuentra en la ruta especificada.\")\n",
    "        return None"
   ]
  },
  {
   "cell_type": "code",
   "execution_count": 6,
   "metadata": {},
   "outputs": [
    {
     "name": "stdout",
     "output_type": "stream",
     "text": [
      "Carga exitosa del conjunto de datos files/datasets/input/geo_data_0.csv.\n",
      "Carga exitosa del conjunto de datos files/datasets/input/geo_data_1.csv.\n",
      "Carga exitosa del conjunto de datos files/datasets/input/geo_data_2.csv.\n"
     ]
    }
   ],
   "source": [
    "# Carga los DataFrames con manejo de excepciones\n",
    "geo_data_0_df = cargar_datos('files/datasets/input/geo_data_0.csv')\n",
    "geo_data_1_df = cargar_datos('files/datasets/input/geo_data_1.csv')\n",
    "geo_data_2_df = cargar_datos('files/datasets/input/geo_data_2.csv')"
   ]
  },
  {
   "cell_type": "code",
   "execution_count": 7,
   "metadata": {},
   "outputs": [
    {
     "name": "stdout",
     "output_type": "stream",
     "text": [
      "Información general de geo_data_0_df:\n",
      "<class 'pandas.core.frame.DataFrame'>\n",
      "RangeIndex: 100000 entries, 0 to 99999\n",
      "Data columns (total 5 columns):\n",
      " #   Column   Non-Null Count   Dtype  \n",
      "---  ------   --------------   -----  \n",
      " 0   id       100000 non-null  object \n",
      " 1   f0       100000 non-null  float64\n",
      " 2   f1       100000 non-null  float64\n",
      " 3   f2       100000 non-null  float64\n",
      " 4   product  100000 non-null  float64\n",
      "dtypes: float64(4), object(1)\n",
      "memory usage: 3.8+ MB\n",
      "None\n"
     ]
    }
   ],
   "source": [
    "# Realiza exploración y análisis exploratorio de datos\n",
    "print(\"Información general de geo_data_0_df:\")\n",
    "print(geo_data_0_df.info())"
   ]
  },
  {
   "cell_type": "code",
   "execution_count": 8,
   "metadata": {},
   "outputs": [
    {
     "name": "stdout",
     "output_type": "stream",
     "text": [
      "Información general de geo_data_1_df:\n",
      "<class 'pandas.core.frame.DataFrame'>\n",
      "RangeIndex: 100000 entries, 0 to 99999\n",
      "Data columns (total 5 columns):\n",
      " #   Column   Non-Null Count   Dtype  \n",
      "---  ------   --------------   -----  \n",
      " 0   id       100000 non-null  object \n",
      " 1   f0       100000 non-null  float64\n",
      " 2   f1       100000 non-null  float64\n",
      " 3   f2       100000 non-null  float64\n",
      " 4   product  100000 non-null  float64\n",
      "dtypes: float64(4), object(1)\n",
      "memory usage: 3.8+ MB\n",
      "None\n"
     ]
    }
   ],
   "source": [
    "print(\"Información general de geo_data_1_df:\")\n",
    "print(geo_data_0_df.info())"
   ]
  },
  {
   "cell_type": "code",
   "execution_count": 9,
   "metadata": {},
   "outputs": [
    {
     "name": "stdout",
     "output_type": "stream",
     "text": [
      "Información general de geo_data_2_df:\n",
      "<class 'pandas.core.frame.DataFrame'>\n",
      "RangeIndex: 100000 entries, 0 to 99999\n",
      "Data columns (total 5 columns):\n",
      " #   Column   Non-Null Count   Dtype  \n",
      "---  ------   --------------   -----  \n",
      " 0   id       100000 non-null  object \n",
      " 1   f0       100000 non-null  float64\n",
      " 2   f1       100000 non-null  float64\n",
      " 3   f2       100000 non-null  float64\n",
      " 4   product  100000 non-null  float64\n",
      "dtypes: float64(4), object(1)\n",
      "memory usage: 3.8+ MB\n",
      "None\n"
     ]
    }
   ],
   "source": [
    "print(\"Información general de geo_data_2_df:\")\n",
    "print(geo_data_0_df.info())"
   ]
  },
  {
   "cell_type": "code",
   "execution_count": 10,
   "metadata": {},
   "outputs": [
    {
     "data": {
      "text/html": [
       "<div>\n",
       "<style scoped>\n",
       "    .dataframe tbody tr th:only-of-type {\n",
       "        vertical-align: middle;\n",
       "    }\n",
       "\n",
       "    .dataframe tbody tr th {\n",
       "        vertical-align: top;\n",
       "    }\n",
       "\n",
       "    .dataframe thead th {\n",
       "        text-align: right;\n",
       "    }\n",
       "</style>\n",
       "<table border=\"1\" class=\"dataframe\">\n",
       "  <thead>\n",
       "    <tr style=\"text-align: right;\">\n",
       "      <th></th>\n",
       "      <th>id</th>\n",
       "      <th>f0</th>\n",
       "      <th>f1</th>\n",
       "      <th>f2</th>\n",
       "      <th>product</th>\n",
       "    </tr>\n",
       "  </thead>\n",
       "  <tbody>\n",
       "    <tr>\n",
       "      <th>0</th>\n",
       "      <td>txEyH</td>\n",
       "      <td>0.705745</td>\n",
       "      <td>-0.497823</td>\n",
       "      <td>1.221170</td>\n",
       "      <td>105.280062</td>\n",
       "    </tr>\n",
       "    <tr>\n",
       "      <th>1</th>\n",
       "      <td>2acmU</td>\n",
       "      <td>1.334711</td>\n",
       "      <td>-0.340164</td>\n",
       "      <td>4.365080</td>\n",
       "      <td>73.037750</td>\n",
       "    </tr>\n",
       "    <tr>\n",
       "      <th>2</th>\n",
       "      <td>409Wp</td>\n",
       "      <td>1.022732</td>\n",
       "      <td>0.151990</td>\n",
       "      <td>1.419926</td>\n",
       "      <td>85.265647</td>\n",
       "    </tr>\n",
       "    <tr>\n",
       "      <th>3</th>\n",
       "      <td>iJLyR</td>\n",
       "      <td>-0.032172</td>\n",
       "      <td>0.139033</td>\n",
       "      <td>2.978566</td>\n",
       "      <td>168.620776</td>\n",
       "    </tr>\n",
       "    <tr>\n",
       "      <th>4</th>\n",
       "      <td>Xdl7t</td>\n",
       "      <td>1.988431</td>\n",
       "      <td>0.155413</td>\n",
       "      <td>4.751769</td>\n",
       "      <td>154.036647</td>\n",
       "    </tr>\n",
       "  </tbody>\n",
       "</table>\n",
       "</div>"
      ],
      "text/plain": [
       "      id        f0        f1        f2     product\n",
       "0  txEyH  0.705745 -0.497823  1.221170  105.280062\n",
       "1  2acmU  1.334711 -0.340164  4.365080   73.037750\n",
       "2  409Wp  1.022732  0.151990  1.419926   85.265647\n",
       "3  iJLyR -0.032172  0.139033  2.978566  168.620776\n",
       "4  Xdl7t  1.988431  0.155413  4.751769  154.036647"
      ]
     },
     "metadata": {},
     "output_type": "display_data"
    },
    {
     "data": {
      "text/html": [
       "<div>\n",
       "<style scoped>\n",
       "    .dataframe tbody tr th:only-of-type {\n",
       "        vertical-align: middle;\n",
       "    }\n",
       "\n",
       "    .dataframe tbody tr th {\n",
       "        vertical-align: top;\n",
       "    }\n",
       "\n",
       "    .dataframe thead th {\n",
       "        text-align: right;\n",
       "    }\n",
       "</style>\n",
       "<table border=\"1\" class=\"dataframe\">\n",
       "  <thead>\n",
       "    <tr style=\"text-align: right;\">\n",
       "      <th></th>\n",
       "      <th>id</th>\n",
       "      <th>f0</th>\n",
       "      <th>f1</th>\n",
       "      <th>f2</th>\n",
       "      <th>product</th>\n",
       "    </tr>\n",
       "  </thead>\n",
       "  <tbody>\n",
       "    <tr>\n",
       "      <th>0</th>\n",
       "      <td>kBEdx</td>\n",
       "      <td>-15.001348</td>\n",
       "      <td>-8.276000</td>\n",
       "      <td>-0.005876</td>\n",
       "      <td>3.179103</td>\n",
       "    </tr>\n",
       "    <tr>\n",
       "      <th>1</th>\n",
       "      <td>62mP7</td>\n",
       "      <td>14.272088</td>\n",
       "      <td>-3.475083</td>\n",
       "      <td>0.999183</td>\n",
       "      <td>26.953261</td>\n",
       "    </tr>\n",
       "    <tr>\n",
       "      <th>2</th>\n",
       "      <td>vyE1P</td>\n",
       "      <td>6.263187</td>\n",
       "      <td>-5.948386</td>\n",
       "      <td>5.001160</td>\n",
       "      <td>134.766305</td>\n",
       "    </tr>\n",
       "    <tr>\n",
       "      <th>3</th>\n",
       "      <td>KcrkZ</td>\n",
       "      <td>-13.081196</td>\n",
       "      <td>-11.506057</td>\n",
       "      <td>4.999415</td>\n",
       "      <td>137.945408</td>\n",
       "    </tr>\n",
       "    <tr>\n",
       "      <th>4</th>\n",
       "      <td>AHL4O</td>\n",
       "      <td>12.702195</td>\n",
       "      <td>-8.147433</td>\n",
       "      <td>5.004363</td>\n",
       "      <td>134.766305</td>\n",
       "    </tr>\n",
       "  </tbody>\n",
       "</table>\n",
       "</div>"
      ],
      "text/plain": [
       "      id         f0         f1        f2     product\n",
       "0  kBEdx -15.001348  -8.276000 -0.005876    3.179103\n",
       "1  62mP7  14.272088  -3.475083  0.999183   26.953261\n",
       "2  vyE1P   6.263187  -5.948386  5.001160  134.766305\n",
       "3  KcrkZ -13.081196 -11.506057  4.999415  137.945408\n",
       "4  AHL4O  12.702195  -8.147433  5.004363  134.766305"
      ]
     },
     "metadata": {},
     "output_type": "display_data"
    },
    {
     "data": {
      "text/html": [
       "<div>\n",
       "<style scoped>\n",
       "    .dataframe tbody tr th:only-of-type {\n",
       "        vertical-align: middle;\n",
       "    }\n",
       "\n",
       "    .dataframe tbody tr th {\n",
       "        vertical-align: top;\n",
       "    }\n",
       "\n",
       "    .dataframe thead th {\n",
       "        text-align: right;\n",
       "    }\n",
       "</style>\n",
       "<table border=\"1\" class=\"dataframe\">\n",
       "  <thead>\n",
       "    <tr style=\"text-align: right;\">\n",
       "      <th></th>\n",
       "      <th>id</th>\n",
       "      <th>f0</th>\n",
       "      <th>f1</th>\n",
       "      <th>f2</th>\n",
       "      <th>product</th>\n",
       "    </tr>\n",
       "  </thead>\n",
       "  <tbody>\n",
       "    <tr>\n",
       "      <th>0</th>\n",
       "      <td>fwXo0</td>\n",
       "      <td>-1.146987</td>\n",
       "      <td>0.963328</td>\n",
       "      <td>-0.828965</td>\n",
       "      <td>27.758673</td>\n",
       "    </tr>\n",
       "    <tr>\n",
       "      <th>1</th>\n",
       "      <td>WJtFt</td>\n",
       "      <td>0.262778</td>\n",
       "      <td>0.269839</td>\n",
       "      <td>-2.530187</td>\n",
       "      <td>56.069697</td>\n",
       "    </tr>\n",
       "    <tr>\n",
       "      <th>2</th>\n",
       "      <td>ovLUW</td>\n",
       "      <td>0.194587</td>\n",
       "      <td>0.289035</td>\n",
       "      <td>-5.586433</td>\n",
       "      <td>62.871910</td>\n",
       "    </tr>\n",
       "    <tr>\n",
       "      <th>3</th>\n",
       "      <td>q6cA6</td>\n",
       "      <td>2.236060</td>\n",
       "      <td>-0.553760</td>\n",
       "      <td>0.930038</td>\n",
       "      <td>114.572842</td>\n",
       "    </tr>\n",
       "    <tr>\n",
       "      <th>4</th>\n",
       "      <td>WPMUX</td>\n",
       "      <td>-0.515993</td>\n",
       "      <td>1.716266</td>\n",
       "      <td>5.899011</td>\n",
       "      <td>149.600746</td>\n",
       "    </tr>\n",
       "  </tbody>\n",
       "</table>\n",
       "</div>"
      ],
      "text/plain": [
       "      id        f0        f1        f2     product\n",
       "0  fwXo0 -1.146987  0.963328 -0.828965   27.758673\n",
       "1  WJtFt  0.262778  0.269839 -2.530187   56.069697\n",
       "2  ovLUW  0.194587  0.289035 -5.586433   62.871910\n",
       "3  q6cA6  2.236060 -0.553760  0.930038  114.572842\n",
       "4  WPMUX -0.515993  1.716266  5.899011  149.600746"
      ]
     },
     "metadata": {},
     "output_type": "display_data"
    }
   ],
   "source": [
    "# Explora los primeros registros\n",
    "display(geo_data_0_df.head())\n",
    "display(geo_data_1_df.head())\n",
    "display(geo_data_2_df.head())"
   ]
  },
  {
   "cell_type": "code",
   "execution_count": 12,
   "metadata": {},
   "outputs": [
    {
     "name": "stdout",
     "output_type": "stream",
     "text": [
      "Volumen promedio de reservas predicho: 92.59256778438035\n",
      "RMSE del modelo: 37.5794217150813\n"
     ]
    }
   ],
   "source": [
    "# Entrenamiento y prueba del modelo\n",
    "# Función para entrenar y probar el modelo\n",
    "def train_and_test_model(data):\n",
    "    train_data, valid_data = train_test_split(data, test_size=0.25, random_state=12345)\n",
    "    features_train = train_data.drop(['id', 'product'], axis=1)\n",
    "    target_train = train_data['product']\n",
    "    features_valid = valid_data.drop(['id', 'product'], axis=1)\n",
    "    target_valid = valid_data['product']\n",
    "    \n",
    "    model = LinearRegression()\n",
    "    model.fit(features_train, target_train)\n",
    "    predictions = model.predict(features_valid)\n",
    "    rmse = np.sqrt(mean_squared_error(target_valid, predictions))\n",
    "    print(f\"Volumen promedio de reservas predicho: {predictions.mean()}\")\n",
    "    print(f\"RMSE del modelo: {rmse}\")\n",
    "    \n",
    "    return model, predictions, target_valid\n",
    "\n",
    "# Entrenamiento y prueba para geo_data_0\n",
    "model_0, predictions_0, target_valid_0 = train_and_test_model(geo_data_0_df)"
   ]
  },
  {
   "cell_type": "code",
   "execution_count": 13,
   "metadata": {},
   "outputs": [
    {
     "name": "stdout",
     "output_type": "stream",
     "text": [
      "Volumen promedio de reservas predicho: 68.72854689544602\n",
      "RMSE del modelo: 0.8930992867756165\n"
     ]
    }
   ],
   "source": [
    "# Entrenamiento y prueba para geo_data_1\n",
    "model_1, predictions_1, target_valid_1 = train_and_test_model(geo_data_1_df)"
   ]
  },
  {
   "cell_type": "code",
   "execution_count": 14,
   "metadata": {},
   "outputs": [
    {
     "name": "stdout",
     "output_type": "stream",
     "text": [
      "Volumen promedio de reservas predicho: 94.96504596800489\n",
      "RMSE del modelo: 40.02970873393434\n"
     ]
    }
   ],
   "source": [
    "# Entrenamiento y prueba para geo_data_2\n",
    "model_2, predictions_2, target_valid_2 = train_and_test_model(geo_data_2_df)"
   ]
  },
  {
   "cell_type": "code",
   "execution_count": 17,
   "metadata": {},
   "outputs": [],
   "source": [
    "# Preparación para el cálculo de ganancias\n",
    "# Almacena valores clave\n",
    "budget = 100000000  # Presupuesto en dólares\n",
    "wells_to_drill = 200  # Número de pozos a perforar\n",
    "income_per_unit = 4500  # Ingreso por unidad de producto en dólares"
   ]
  },
  {
   "cell_type": "code",
   "execution_count": 18,
   "metadata": {},
   "outputs": [
    {
     "name": "stdout",
     "output_type": "stream",
     "text": [
      "Valor mínimo por pozo para evitar pérdidas: 111.11 unidades de producto\n"
     ]
    }
   ],
   "source": [
    "# Calcula el valor mínimo por pozo para evitar pérdidas en unidades de producto\n",
    "min_value_per_well = budget / wells_to_drill / income_per_unit\n",
    "print(f\"Valor mínimo por pozo para evitar pérdidas: {min_value_per_well:.2f} unidades de producto\")"
   ]
  },
  {
   "cell_type": "code",
   "execution_count": 19,
   "metadata": {},
   "outputs": [
    {
     "name": "stdout",
     "output_type": "stream",
     "text": [
      "Volumen medio de reservas en geo_data_0.csv: 92.50\n",
      "Volumen medio de reservas en geo_data_1.csv: 68.83\n",
      "Volumen medio de reservas en geo_data_2.csv: 95.00\n"
     ]
    }
   ],
   "source": [
    "# Compara el valor mínimo con el volumen medio de reservas en cada región\n",
    "# Obtiene el volumen medio de reservas para cada región\n",
    "mean_volume_0 = geo_data_0_df['product'].mean()\n",
    "mean_volume_1 = geo_data_1_df['product'].mean()\n",
    "mean_volume_2 = geo_data_2_df['product'].mean()\n",
    "\n",
    "# Imprime los resultados\n",
    "print(f\"Volumen medio de reservas en geo_data_0.csv: {mean_volume_0:.2f}\")\n",
    "print(f\"Volumen medio de reservas en geo_data_1.csv: {mean_volume_1:.2f}\")\n",
    "print(f\"Volumen medio de reservas en geo_data_2.csv: {mean_volume_2:.2f}\")"
   ]
  },
  {
   "cell_type": "code",
   "execution_count": 20,
   "metadata": {},
   "outputs": [
    {
     "name": "stdout",
     "output_type": "stream",
     "text": [
      "La región geo_data_0 no es adecuada para la inversión.\n",
      "La región geo_data_1 no es adecuada para la inversión.\n",
      "La región geo_data_2 no es adecuada para la inversión.\n"
     ]
    }
   ],
   "source": [
    "# Compara con el valor mínimo por pozo\n",
    "if mean_volume_0 > min_value_per_well:\n",
    "    print(\"La región geo_data_0 es adecuada para la inversión.\")\n",
    "else:\n",
    "    print(\"La región geo_data_0 no es adecuada para la inversión.\")\n",
    "\n",
    "if mean_volume_1 > min_value_per_well:\n",
    "    print(\"La región geo_data_1 es adecuada para la inversión.\")\n",
    "else:\n",
    "    print(\"La región geo_data_1 no es adecuada para la inversión.\")\n",
    "\n",
    "if mean_volume_2 > min_value_per_well:\n",
    "    print(\"La región geo_data_2 es adecuada para la inversión.\")\n",
    "else:\n",
    "    print(\"La región geo_data_2 no es adecuada para la inversión.\")"
   ]
  },
  {
   "cell_type": "code",
   "execution_count": 21,
   "metadata": {},
   "outputs": [
    {
     "name": "stdout",
     "output_type": "stream",
     "text": [
      "Conclusiones sobre la preparación para el cálculo de ganancias:\n",
      "Al menos una región no cumple con el valor mínimo por pozo para evitar pérdidas.\n"
     ]
    }
   ],
   "source": [
    "# Conclusiones sobre la preparación para el cálculo de ganancias\n",
    "print(\"Conclusiones sobre la preparación para el cálculo de ganancias:\")\n",
    "if mean_volume_0 >= min_value_per_well and mean_volume_1 >= min_value_per_well and mean_volume_2 >= min_value_per_well:\n",
    "    print(\"Todas las regiones cumplen con el valor mínimo por pozo para evitar pérdidas.\")\n",
    "else:\n",
    "    print(\"Al menos una región no cumple con el valor mínimo por pozo para evitar pérdidas.\")"
   ]
  },
  {
   "cell_type": "code",
   "execution_count": 22,
   "metadata": {},
   "outputs": [],
   "source": [
    "# Cálculo de ganancias y riesgos\n",
    "# Función para calcular ganancias y riesgos\n",
    "\n",
    "def calculate_profit(predictions, wells_to_drill, income_per_unit, target_valid, budget):\n",
    "    # Ordena las predicciones de mayor a menor\n",
    "    sorted_indices = np.argsort(predictions)[::-1]\n",
    "\n",
    "    # Selecciona las primeras 'wells_to_drill' predicciones\n",
    "    selected_indices = sorted_indices[:wells_to_drill]\n",
    "\n",
    "    # Obtiene los valores reales (target) correspondientes a las predicciones seleccionadas\n",
    "    selected_target = target_valid.iloc[selected_indices]\n",
    "\n",
    "    # Calcula el volumen total de reservas en barriles\n",
    "    total_volume = np.sum(selected_target)\n",
    "\n",
    "    # Calcula las ganancias\n",
    "    total_income = total_volume * income_per_unit\n",
    "    total_expenses = budget\n",
    "    total_profit = total_income - total_expenses\n",
    "\n",
    "    return total_profit, total_volume"
   ]
  },
  {
   "cell_type": "code",
   "execution_count": 23,
   "metadata": {},
   "outputs": [
    {
     "name": "stdout",
     "output_type": "stream",
     "text": [
      "Ganancia potencial en geo_data_0: $33208260.43 (Volumen objetivo: 29601.84 barriles)\n",
      "Ganancia potencial en geo_data_1: $24150866.97 (Volumen objetivo: 27589.08 barriles)\n",
      "Ganancia potencial en geo_data_2: $27103499.64 (Volumen objetivo: 28245.22 barriles)\n"
     ]
    }
   ],
   "source": [
    "# Calcula ganancias y riesgos para cada región\n",
    "# Calcula ganancias y riesgos para geo_data_0\n",
    "profit_0, target_volume_0 = calculate_profit(predictions_0, wells_to_drill, income_per_unit, target_valid_0, budget)\n",
    "\n",
    "# Calcula ganancias y riesgos para geo_data_1\n",
    "profit_1, target_volume_1 = calculate_profit(predictions_1, wells_to_drill, income_per_unit, target_valid_1, budget)\n",
    "\n",
    "# Calcula ganancias y riesgos para geo_data_2\n",
    "profit_2, target_volume_2 = calculate_profit(predictions_2, wells_to_drill, income_per_unit, target_valid_2, budget)\n",
    "\n",
    "# Muestra los resultados\n",
    "print(f\"Ganancia potencial en geo_data_0: ${profit_0:.2f} (Volumen objetivo: {target_volume_0:.2f} barriles)\")\n",
    "print(f\"Ganancia potencial en geo_data_1: ${profit_1:.2f} (Volumen objetivo: {target_volume_1:.2f} barriles)\")\n",
    "print(f\"Ganancia potencial en geo_data_2: ${profit_2:.2f} (Volumen objetivo: {target_volume_2:.2f} barriles)\")"
   ]
  },
  {
   "cell_type": "code",
   "execution_count": 24,
   "metadata": {},
   "outputs": [],
   "source": [
    "# Aplica bootstrapping para encontrar distribución del beneficio\n",
    "# Variable para la cantidad deseada de pozos en la muestra\n",
    "desired_wells_to_sample = 500\n",
    "\n",
    "# Aplica bootstrapping para encontrar la distribución del beneficio\n",
    "def bootstrap(data_valid, predictions, desired_wells_to_sample, income_per_unit, budget, iterations=1000):\n",
    "    profits = []\n",
    "\n",
    "    for i in range(iterations):\n",
    "        # Resetear el índice del conjunto de validación antes del muestreo\n",
    "        data_valid = data_valid.reset_index(drop=True)\n",
    "\n",
    "        # Toma una muestra aleatoria del conjunto de validación\n",
    "        sampled_data = data_valid.sample(n=desired_wells_to_sample, replace=True, random_state=i)\n",
    "\n",
    "        # Toma la submuestra del target_valid y las predicciones\n",
    "        sampled_targets = sampled_data['product']\n",
    "\n",
    "        # Selecciona las filas correspondientes de las predicciones\n",
    "        sampled_predictions = predictions[sampled_data.index]\n",
    "\n",
    "        # Calcula el beneficio para la submuestra utilizando la función calculate_profit\n",
    "        profit, _ = calculate_profit(sampled_predictions, 200, income_per_unit, sampled_targets, budget)\n",
    "        profits.append(profit)\n",
    "\n",
    "    # Convierte la lista de beneficios en una serie de pandas y devuélvela\n",
    "    return pd.Series(profits)"
   ]
  },
  {
   "cell_type": "code",
   "execution_count": 25,
   "metadata": {},
   "outputs": [],
   "source": [
    "# Aplica bootstrapping para los DataFrames\n",
    "# Dividir el conjunto de datos original en entrenamiento y validación\n",
    "train_geo_data_0, geo_data_0_df_valid = train_test_split(geo_data_0_df, test_size=0.25, random_state=12345)\n",
    "train_geo_data_1, geo_data_1_df_valid = train_test_split(geo_data_1_df, test_size=0.25, random_state=12345)\n",
    "train_geo_data_2, geo_data_2_df_valid = train_test_split(geo_data_2_df, test_size=0.25, random_state=12345)"
   ]
  },
  {
   "cell_type": "code",
   "execution_count": 26,
   "metadata": {},
   "outputs": [],
   "source": [
    "# Aplica bootstrapping para los DataFrames\n",
    "profits_0 = bootstrap(geo_data_0_df_valid, predictions_0, desired_wells_to_sample, income_per_unit, budget)\n",
    "profits_1 = bootstrap(geo_data_1_df_valid, predictions_1, desired_wells_to_sample, income_per_unit, budget)\n",
    "profits_2 = bootstrap(geo_data_2_df_valid, predictions_2, desired_wells_to_sample, income_per_unit, budget)"
   ]
  },
  {
   "cell_type": "code",
   "execution_count": 27,
   "metadata": {},
   "outputs": [],
   "source": [
    "# Calcula las estadísticas\n",
    "mean_profit_0 = np.mean(profits_0)\n",
    "confidence_interval_0 = np.percentile(profits_0, [2.5, 97.5])\n",
    "risk_of_loss_0 = sum([1 for profit in profits_0 if profit < 0]) / len(profits_0) * 100\n",
    "\n",
    "mean_profit_1 = np.mean(profits_1)\n",
    "confidence_interval_1 = np.percentile(profits_1, [2.5, 97.5])\n",
    "risk_of_loss_1 = sum([1 for profit in profits_1 if profit < 0]) / len(profits_1) * 100\n",
    "\n",
    "mean_profit_2 = np.mean(profits_2)\n",
    "confidence_interval_2 = np.percentile(profits_2, [2.5, 97.5])\n",
    "risk_of_loss_2 = sum([1 for profit in profits_2 if profit < 0]) / len(profits_2) * 100"
   ]
  },
  {
   "cell_type": "code",
   "execution_count": 28,
   "metadata": {},
   "outputs": [
    {
     "name": "stdout",
     "output_type": "stream",
     "text": [
      "Resultados del bootstrapping para geo_data_0:\n",
      "Ganancia promedio: $3883450.43\n",
      "Intervalo de confianza del 95%: $-998680.30 - $8773652.89\n",
      "Riesgo de pérdidas: 6.60%\n"
     ]
    }
   ],
   "source": [
    "# Muestra resultados del bootstrapping para geo_data_0\n",
    "print(\"Resultados del bootstrapping para geo_data_0:\")\n",
    "print(f\"Ganancia promedio: ${mean_profit_0:.2f}\")\n",
    "print(f\"Intervalo de confianza del 95%: ${confidence_interval_0[0]:.2f} - ${confidence_interval_0[1]:.2f}\")\n",
    "print(f\"Riesgo de pérdidas: {risk_of_loss_0:.2f}%\")"
   ]
  },
  {
   "cell_type": "code",
   "execution_count": 29,
   "metadata": {},
   "outputs": [
    {
     "name": "stdout",
     "output_type": "stream",
     "text": [
      "Resultados del bootstrapping para geo_data_1:\n",
      "Ganancia promedio: $4573215.71\n",
      "Intervalo de confianza del 95%: $502583.70 - $8723271.30\n",
      "Riesgo de pérdidas: 1.70%\n"
     ]
    }
   ],
   "source": [
    "# Muestra resultados del bootstrapping para geo_data_1\n",
    "print(\"Resultados del bootstrapping para geo_data_1:\")\n",
    "print(f\"Ganancia promedio: ${mean_profit_1:.2f}\")\n",
    "print(f\"Intervalo de confianza del 95%: ${confidence_interval_1[0]:.2f} - ${confidence_interval_1[1]:.2f}\")\n",
    "print(f\"Riesgo de pérdidas: {risk_of_loss_1:.2f}%\")"
   ]
  },
  {
   "cell_type": "code",
   "execution_count": 30,
   "metadata": {},
   "outputs": [
    {
     "name": "stdout",
     "output_type": "stream",
     "text": [
      "Resultados del bootstrapping para geo_data_2:\n",
      "Ganancia promedio: $3875514.95\n",
      "Intervalo de confianza del 95%: $-955100.56 - $8813186.76\n",
      "Riesgo de pérdidas: 6.50%\n"
     ]
    }
   ],
   "source": [
    "# Muestra resultados del bootstrapping para geo_data_2\n",
    "print(\"Resultados del bootstrapping para geo_data_2:\")\n",
    "print(f\"Ganancia promedio: ${mean_profit_2:.2f}\")\n",
    "print(f\"Intervalo de confianza del 95%: ${confidence_interval_2[0]:.2f} - ${confidence_interval_2[1]:.2f}\")\n",
    "print(f\"Riesgo de pérdidas: {risk_of_loss_2:.2f}%\")"
   ]
  }
 ],
 "metadata": {
  "kernelspec": {
   "display_name": "Python 3",
   "language": "python",
   "name": "python3"
  },
  "language_info": {
   "codemirror_mode": {
    "name": "ipython",
    "version": 3
   },
   "file_extension": ".py",
   "mimetype": "text/x-python",
   "name": "python",
   "nbconvert_exporter": "python",
   "pygments_lexer": "ipython3",
   "version": "3.11.7"
  },
  "orig_nbformat": 4
 },
 "nbformat": 4,
 "nbformat_minor": 2
}
